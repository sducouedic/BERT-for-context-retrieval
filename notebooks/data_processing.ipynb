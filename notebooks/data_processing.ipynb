{
 "cells": [
  {
   "cell_type": "markdown",
   "id": "e34e069e-e173-4a32-9a37-83f48e661afe",
   "metadata": {},
   "source": [
    "# Raw data exploration and processing\n",
    "\n",
    "This notebook is used to test how to process SQuAD data to create the data set. The final code used actually used is in `src/data/SQuAD.py`"
   ]
  },
  {
   "cell_type": "code",
   "execution_count": 1,
   "id": "964b5669-84ae-4f71-ba1c-8301f88c277e",
   "metadata": {},
   "outputs": [],
   "source": [
    "import json\n",
    "import pandas as pd"
   ]
  },
  {
   "cell_type": "code",
   "execution_count": 2,
   "id": "c9c31c09-8935-4d2d-b244-390ef56b999f",
   "metadata": {},
   "outputs": [],
   "source": [
    "data_path='../data/'\n",
    "train_set_path= data_path+'SQuAD-train-v2.0.json'\n",
    "validation_set_path=data_path+'SQuAD-dev-v2.0.json'"
   ]
  },
  {
   "cell_type": "code",
   "execution_count": 3,
   "id": "0ad7b9d4-b427-4d6a-a615-f76c19683539",
   "metadata": {},
   "outputs": [],
   "source": [
    "f = open(validation_set_path)\n",
    "data=json.load(f)\n",
    "f.close()"
   ]
  },
  {
   "cell_type": "code",
   "execution_count": 4,
   "id": "e27c4b55-a0b6-4243-8828-577521269b53",
   "metadata": {},
   "outputs": [
    {
     "data": {
      "text/plain": [
       "35"
      ]
     },
     "execution_count": 4,
     "metadata": {},
     "output_type": "execute_result"
    }
   ],
   "source": [
    "data=data.get('data')\n",
    "len(data)"
   ]
  },
  {
   "cell_type": "code",
   "execution_count": 5,
   "id": "e1259c4c-86be-49ef-b7b5-b39bc203a14a",
   "metadata": {},
   "outputs": [
    {
     "name": "stdout",
     "output_type": "stream",
     "text": [
      "11873\n"
     ]
    },
    {
     "data": {
      "text/html": [
       "<div>\n",
       "<style scoped>\n",
       "    .dataframe tbody tr th:only-of-type {\n",
       "        vertical-align: middle;\n",
       "    }\n",
       "\n",
       "    .dataframe tbody tr th {\n",
       "        vertical-align: top;\n",
       "    }\n",
       "\n",
       "    .dataframe thead th {\n",
       "        text-align: right;\n",
       "    }\n",
       "</style>\n",
       "<table border=\"1\" class=\"dataframe\">\n",
       "  <thead>\n",
       "    <tr style=\"text-align: right;\">\n",
       "      <th></th>\n",
       "      <th>question</th>\n",
       "      <th>id</th>\n",
       "      <th>answers</th>\n",
       "      <th>is_impossible</th>\n",
       "      <th>plausible_answers</th>\n",
       "      <th>title</th>\n",
       "      <th>paragraphs.context</th>\n",
       "    </tr>\n",
       "  </thead>\n",
       "  <tbody>\n",
       "    <tr>\n",
       "      <th>0</th>\n",
       "      <td>In what country is Normandy located?</td>\n",
       "      <td>56ddde6b9a695914005b9628</td>\n",
       "      <td>[{'text': 'France', 'answer_start': 159}, {'te...</td>\n",
       "      <td>False</td>\n",
       "      <td>NaN</td>\n",
       "      <td>Normans</td>\n",
       "      <td>The Normans (Norman: Nourmands; French: Norman...</td>\n",
       "    </tr>\n",
       "    <tr>\n",
       "      <th>1</th>\n",
       "      <td>When were the Normans in Normandy?</td>\n",
       "      <td>56ddde6b9a695914005b9629</td>\n",
       "      <td>[{'text': '10th and 11th centuries', 'answer_s...</td>\n",
       "      <td>False</td>\n",
       "      <td>NaN</td>\n",
       "      <td>Normans</td>\n",
       "      <td>The Normans (Norman: Nourmands; French: Norman...</td>\n",
       "    </tr>\n",
       "    <tr>\n",
       "      <th>2</th>\n",
       "      <td>From which countries did the Norse originate?</td>\n",
       "      <td>56ddde6b9a695914005b962a</td>\n",
       "      <td>[{'text': 'Denmark, Iceland and Norway', 'answ...</td>\n",
       "      <td>False</td>\n",
       "      <td>NaN</td>\n",
       "      <td>Normans</td>\n",
       "      <td>The Normans (Norman: Nourmands; French: Norman...</td>\n",
       "    </tr>\n",
       "  </tbody>\n",
       "</table>\n",
       "</div>"
      ],
      "text/plain": [
       "                                        question                        id  \\\n",
       "0           In what country is Normandy located?  56ddde6b9a695914005b9628   \n",
       "1             When were the Normans in Normandy?  56ddde6b9a695914005b9629   \n",
       "2  From which countries did the Norse originate?  56ddde6b9a695914005b962a   \n",
       "\n",
       "                                             answers  is_impossible  \\\n",
       "0  [{'text': 'France', 'answer_start': 159}, {'te...          False   \n",
       "1  [{'text': '10th and 11th centuries', 'answer_s...          False   \n",
       "2  [{'text': 'Denmark, Iceland and Norway', 'answ...          False   \n",
       "\n",
       "  plausible_answers    title  \\\n",
       "0               NaN  Normans   \n",
       "1               NaN  Normans   \n",
       "2               NaN  Normans   \n",
       "\n",
       "                                  paragraphs.context  \n",
       "0  The Normans (Norman: Nourmands; French: Norman...  \n",
       "1  The Normans (Norman: Nourmands; French: Norman...  \n",
       "2  The Normans (Norman: Nourmands; French: Norman...  "
      ]
     },
     "execution_count": 5,
     "metadata": {},
     "output_type": "execute_result"
    }
   ],
   "source": [
    "df_questions = pd.json_normalize(data, ['paragraphs', 'qas'], ['title', ['paragraphs', 'context']])\n",
    "print(len(df_questions))\n",
    "df_questions.head(3)"
   ]
  },
  {
   "cell_type": "code",
   "execution_count": 6,
   "id": "32d67783-fcd2-4548-94f6-b80fbc7f5e6c",
   "metadata": {},
   "outputs": [
    {
     "data": {
      "text/html": [
       "<div>\n",
       "<style scoped>\n",
       "    .dataframe tbody tr th:only-of-type {\n",
       "        vertical-align: middle;\n",
       "    }\n",
       "\n",
       "    .dataframe tbody tr th {\n",
       "        vertical-align: top;\n",
       "    }\n",
       "\n",
       "    .dataframe thead th {\n",
       "        text-align: right;\n",
       "    }\n",
       "</style>\n",
       "<table border=\"1\" class=\"dataframe\">\n",
       "  <thead>\n",
       "    <tr style=\"text-align: right;\">\n",
       "      <th></th>\n",
       "      <th>question</th>\n",
       "      <th>q_title</th>\n",
       "      <th>context</th>\n",
       "      <th>q_context</th>\n",
       "    </tr>\n",
       "    <tr>\n",
       "      <th>id</th>\n",
       "      <th></th>\n",
       "      <th></th>\n",
       "      <th></th>\n",
       "      <th></th>\n",
       "    </tr>\n",
       "  </thead>\n",
       "  <tbody>\n",
       "    <tr>\n",
       "      <th>5711648850c2381900b54ac6</th>\n",
       "      <td>What is the approximate turbine entry temperat...</td>\n",
       "      <td>6</td>\n",
       "      <td>One of the principal advantages the Rankine cy...</td>\n",
       "      <td>258</td>\n",
       "    </tr>\n",
       "    <tr>\n",
       "      <th>5ad3cd43604f3c001a3ff186</th>\n",
       "      <td>In what constituent country of the United King...</td>\n",
       "      <td>6</td>\n",
       "      <td>The first full-scale working railway steam loc...</td>\n",
       "      <td>219</td>\n",
       "    </tr>\n",
       "    <tr>\n",
       "      <th>5acf808877cf76001a685006</th>\n",
       "      <td>Why did Hutchins eliminate hospitals from the ...</td>\n",
       "      <td>23</td>\n",
       "      <td>In 1929, the university's fifth president, Rob...</td>\n",
       "      <td>721</td>\n",
       "    </tr>\n",
       "  </tbody>\n",
       "</table>\n",
       "</div>"
      ],
      "text/plain": [
       "                                                                   question  \\\n",
       "id                                                                            \n",
       "5711648850c2381900b54ac6  What is the approximate turbine entry temperat...   \n",
       "5ad3cd43604f3c001a3ff186  In what constituent country of the United King...   \n",
       "5acf808877cf76001a685006  Why did Hutchins eliminate hospitals from the ...   \n",
       "\n",
       "                          q_title  \\\n",
       "id                                  \n",
       "5711648850c2381900b54ac6        6   \n",
       "5ad3cd43604f3c001a3ff186        6   \n",
       "5acf808877cf76001a685006       23   \n",
       "\n",
       "                                                                    context  \\\n",
       "id                                                                            \n",
       "5711648850c2381900b54ac6  One of the principal advantages the Rankine cy...   \n",
       "5ad3cd43604f3c001a3ff186  The first full-scale working railway steam loc...   \n",
       "5acf808877cf76001a685006  In 1929, the university's fifth president, Rob...   \n",
       "\n",
       "                          q_context  \n",
       "id                                   \n",
       "5711648850c2381900b54ac6        258  \n",
       "5ad3cd43604f3c001a3ff186        219  \n",
       "5acf808877cf76001a685006        721  "
      ]
     },
     "execution_count": 6,
     "metadata": {},
     "output_type": "execute_result"
    }
   ],
   "source": [
    "df_questions=df_questions.set_index('id')\\\n",
    "                         .drop(columns=['answers', 'is_impossible', 'plausible_answers'])\\\n",
    "                         .rename(columns={'paragraphs.context':'context', 'title':'q_title'})\n",
    "df_questions['q_title'] = pd.factorize(df_questions['q_title'])[0]\n",
    "df_questions['q_context'] = pd.factorize(df_questions['context'])[0]\n",
    "df_questions.sample(3)"
   ]
  },
  {
   "cell_type": "code",
   "execution_count": 7,
   "id": "bfa05643-d98c-4a3a-a50d-60cd90a24f58",
   "metadata": {},
   "outputs": [
    {
     "name": "stdout",
     "output_type": "stream",
     "text": [
      "True\n",
      "7\n"
     ]
    },
    {
     "data": {
      "text/html": [
       "<div>\n",
       "<style scoped>\n",
       "    .dataframe tbody tr th:only-of-type {\n",
       "        vertical-align: middle;\n",
       "    }\n",
       "\n",
       "    .dataframe tbody tr th {\n",
       "        vertical-align: top;\n",
       "    }\n",
       "\n",
       "    .dataframe thead th {\n",
       "        text-align: right;\n",
       "    }\n",
       "</style>\n",
       "<table border=\"1\" class=\"dataframe\">\n",
       "  <thead>\n",
       "    <tr style=\"text-align: right;\">\n",
       "      <th></th>\n",
       "      <th>question</th>\n",
       "      <th>q_title</th>\n",
       "      <th>context</th>\n",
       "      <th>q_context</th>\n",
       "    </tr>\n",
       "    <tr>\n",
       "      <th>id</th>\n",
       "      <th></th>\n",
       "      <th></th>\n",
       "      <th></th>\n",
       "      <th></th>\n",
       "    </tr>\n",
       "  </thead>\n",
       "  <tbody>\n",
       "    <tr>\n",
       "      <th>571153422419e3140095557e</th>\n",
       "      <td>Who designed Salamanca?</td>\n",
       "      <td>6</td>\n",
       "      <td>Trevithick continued his own experiments using...</td>\n",
       "      <td>237</td>\n",
       "    </tr>\n",
       "    <tr>\n",
       "      <th>5ad3d2aa604f3c001a3ff262</th>\n",
       "      <td>Who designed Salamanca?</td>\n",
       "      <td>6</td>\n",
       "      <td>Trevithick continued his own experiments using...</td>\n",
       "      <td>237</td>\n",
       "    </tr>\n",
       "    <tr>\n",
       "      <th>5711669550c2381900b54ae0</th>\n",
       "      <td>Where does heat rejection occur in the Rankine...</td>\n",
       "      <td>6</td>\n",
       "      <td>The Rankine cycle is sometimes referred to as ...</td>\n",
       "      <td>262</td>\n",
       "    </tr>\n",
       "    <tr>\n",
       "      <th>5ad414dd604f3c001a4002c8</th>\n",
       "      <td>Where does heat rejection occur in the Rankine...</td>\n",
       "      <td>6</td>\n",
       "      <td>The Rankine cycle is sometimes referred to as ...</td>\n",
       "      <td>262</td>\n",
       "    </tr>\n",
       "    <tr>\n",
       "      <th>5725b7f389a1e219009abd5e</th>\n",
       "      <td>What are the main sources of primary law?</td>\n",
       "      <td>9</td>\n",
       "      <td>European Union law is a body of treaties and l...</td>\n",
       "      <td>330</td>\n",
       "    </tr>\n",
       "    <tr>\n",
       "      <th>57268b43dd62a815002e88f1</th>\n",
       "      <td>What are the main sources of primary law?</td>\n",
       "      <td>9</td>\n",
       "      <td>European Union law is a body of treaties and l...</td>\n",
       "      <td>330</td>\n",
       "    </tr>\n",
       "  </tbody>\n",
       "</table>\n",
       "</div>"
      ],
      "text/plain": [
       "                                                                   question  \\\n",
       "id                                                                            \n",
       "571153422419e3140095557e                            Who designed Salamanca?   \n",
       "5ad3d2aa604f3c001a3ff262                            Who designed Salamanca?   \n",
       "5711669550c2381900b54ae0  Where does heat rejection occur in the Rankine...   \n",
       "5ad414dd604f3c001a4002c8  Where does heat rejection occur in the Rankine...   \n",
       "5725b7f389a1e219009abd5e          What are the main sources of primary law?   \n",
       "57268b43dd62a815002e88f1          What are the main sources of primary law?   \n",
       "\n",
       "                          q_title  \\\n",
       "id                                  \n",
       "571153422419e3140095557e        6   \n",
       "5ad3d2aa604f3c001a3ff262        6   \n",
       "5711669550c2381900b54ae0        6   \n",
       "5ad414dd604f3c001a4002c8        6   \n",
       "5725b7f389a1e219009abd5e        9   \n",
       "57268b43dd62a815002e88f1        9   \n",
       "\n",
       "                                                                    context  \\\n",
       "id                                                                            \n",
       "571153422419e3140095557e  Trevithick continued his own experiments using...   \n",
       "5ad3d2aa604f3c001a3ff262  Trevithick continued his own experiments using...   \n",
       "5711669550c2381900b54ae0  The Rankine cycle is sometimes referred to as ...   \n",
       "5ad414dd604f3c001a4002c8  The Rankine cycle is sometimes referred to as ...   \n",
       "5725b7f389a1e219009abd5e  European Union law is a body of treaties and l...   \n",
       "57268b43dd62a815002e88f1  European Union law is a body of treaties and l...   \n",
       "\n",
       "                          q_context  \n",
       "id                                   \n",
       "571153422419e3140095557e        237  \n",
       "5ad3d2aa604f3c001a3ff262        237  \n",
       "5711669550c2381900b54ae0        262  \n",
       "5ad414dd604f3c001a4002c8        262  \n",
       "5725b7f389a1e219009abd5e        330  \n",
       "57268b43dd62a815002e88f1        330  "
      ]
     },
     "execution_count": 7,
     "metadata": {},
     "output_type": "execute_result"
    }
   ],
   "source": [
    "# duplications\n",
    "print(df_questions.duplicated().any())\n",
    "print(len(df_questions[df_questions.duplicated()]))\n",
    "df_questions[df_questions.duplicated(keep=False)].head(6)"
   ]
  },
  {
   "cell_type": "code",
   "execution_count": 8,
   "id": "7df5fe60-56a6-453c-93a5-9d1c69eb5371",
   "metadata": {},
   "outputs": [
    {
     "data": {
      "text/plain": [
       "False"
      ]
     },
     "execution_count": 8,
     "metadata": {},
     "output_type": "execute_result"
    }
   ],
   "source": [
    "df_questions = df_questions.drop_duplicates(keep=False)\n",
    "df_questions.duplicated().any()"
   ]
  },
  {
   "cell_type": "code",
   "execution_count": 9,
   "id": "c76820bd-7f3f-4223-bfe8-63e60933d048",
   "metadata": {},
   "outputs": [],
   "source": [
    "# create separate dataframe for contexts\n",
    "df_context = df_questions[['context', 'q_context', 'q_title']].copy()\\\n",
    "             .rename(columns={'q_context':'context_id', 'q_title':'c_title'})\\\n",
    "             .set_index('context_id')\n",
    "df_context = df_context.drop_duplicates()\n",
    "df_context = df_context.sort_index()\n",
    "\n",
    "# remove contexts from questions dataframe\n",
    "df_questions = df_questions.drop(columns=['context'])"
   ]
  },
  {
   "cell_type": "code",
   "execution_count": 10,
   "id": "f3ee8f79-fa8a-4a47-bc94-e959717651e7",
   "metadata": {},
   "outputs": [
    {
     "name": "stdout",
     "output_type": "stream",
     "text": [
      "False\n",
      "11859\n"
     ]
    },
    {
     "data": {
      "text/html": [
       "<div>\n",
       "<style scoped>\n",
       "    .dataframe tbody tr th:only-of-type {\n",
       "        vertical-align: middle;\n",
       "    }\n",
       "\n",
       "    .dataframe tbody tr th {\n",
       "        vertical-align: top;\n",
       "    }\n",
       "\n",
       "    .dataframe thead th {\n",
       "        text-align: right;\n",
       "    }\n",
       "</style>\n",
       "<table border=\"1\" class=\"dataframe\">\n",
       "  <thead>\n",
       "    <tr style=\"text-align: right;\">\n",
       "      <th></th>\n",
       "      <th>question</th>\n",
       "      <th>q_title</th>\n",
       "      <th>q_context</th>\n",
       "    </tr>\n",
       "    <tr>\n",
       "      <th>id</th>\n",
       "      <th></th>\n",
       "      <th></th>\n",
       "      <th></th>\n",
       "    </tr>\n",
       "  </thead>\n",
       "  <tbody>\n",
       "    <tr>\n",
       "      <th>56ddde6b9a695914005b9628</th>\n",
       "      <td>In what country is Normandy located?</td>\n",
       "      <td>0</td>\n",
       "      <td>0</td>\n",
       "    </tr>\n",
       "    <tr>\n",
       "      <th>56ddde6b9a695914005b9629</th>\n",
       "      <td>When were the Normans in Normandy?</td>\n",
       "      <td>0</td>\n",
       "      <td>0</td>\n",
       "    </tr>\n",
       "    <tr>\n",
       "      <th>56ddde6b9a695914005b962a</th>\n",
       "      <td>From which countries did the Norse originate?</td>\n",
       "      <td>0</td>\n",
       "      <td>0</td>\n",
       "    </tr>\n",
       "  </tbody>\n",
       "</table>\n",
       "</div>"
      ],
      "text/plain": [
       "                                                               question  \\\n",
       "id                                                                        \n",
       "56ddde6b9a695914005b9628           In what country is Normandy located?   \n",
       "56ddde6b9a695914005b9629             When were the Normans in Normandy?   \n",
       "56ddde6b9a695914005b962a  From which countries did the Norse originate?   \n",
       "\n",
       "                          q_title  q_context  \n",
       "id                                            \n",
       "56ddde6b9a695914005b9628        0          0  \n",
       "56ddde6b9a695914005b9629        0          0  \n",
       "56ddde6b9a695914005b962a        0          0  "
      ]
     },
     "execution_count": 10,
     "metadata": {},
     "output_type": "execute_result"
    }
   ],
   "source": [
    "print(df_questions.duplicated().any())\n",
    "print(len(df_questions))\n",
    "df_questions.head(3)"
   ]
  },
  {
   "cell_type": "code",
   "execution_count": 11,
   "id": "bb680ee0-6826-49ff-86ce-03e0f4f6af85",
   "metadata": {},
   "outputs": [
    {
     "name": "stdout",
     "output_type": "stream",
     "text": [
      "False\n",
      "1204\n"
     ]
    },
    {
     "data": {
      "text/html": [
       "<div>\n",
       "<style scoped>\n",
       "    .dataframe tbody tr th:only-of-type {\n",
       "        vertical-align: middle;\n",
       "    }\n",
       "\n",
       "    .dataframe tbody tr th {\n",
       "        vertical-align: top;\n",
       "    }\n",
       "\n",
       "    .dataframe thead th {\n",
       "        text-align: right;\n",
       "    }\n",
       "</style>\n",
       "<table border=\"1\" class=\"dataframe\">\n",
       "  <thead>\n",
       "    <tr style=\"text-align: right;\">\n",
       "      <th></th>\n",
       "      <th>context</th>\n",
       "      <th>c_title</th>\n",
       "    </tr>\n",
       "    <tr>\n",
       "      <th>context_id</th>\n",
       "      <th></th>\n",
       "      <th></th>\n",
       "    </tr>\n",
       "  </thead>\n",
       "  <tbody>\n",
       "    <tr>\n",
       "      <th>0</th>\n",
       "      <td>The Normans (Norman: Nourmands; French: Norman...</td>\n",
       "      <td>0</td>\n",
       "    </tr>\n",
       "    <tr>\n",
       "      <th>1</th>\n",
       "      <td>The Norman dynasty had a major political, cult...</td>\n",
       "      <td>0</td>\n",
       "    </tr>\n",
       "    <tr>\n",
       "      <th>2</th>\n",
       "      <td>The English name \"Normans\" comes from the Fren...</td>\n",
       "      <td>0</td>\n",
       "    </tr>\n",
       "  </tbody>\n",
       "</table>\n",
       "</div>"
      ],
      "text/plain": [
       "                                                      context  c_title\n",
       "context_id                                                            \n",
       "0           The Normans (Norman: Nourmands; French: Norman...        0\n",
       "1           The Norman dynasty had a major political, cult...        0\n",
       "2           The English name \"Normans\" comes from the Fren...        0"
      ]
     },
     "execution_count": 11,
     "metadata": {},
     "output_type": "execute_result"
    }
   ],
   "source": [
    "print(df_context.duplicated().any())\n",
    "print(len(df_context))\n",
    "df_context.head(3)"
   ]
  },
  {
   "cell_type": "code",
   "execution_count": 24,
   "id": "fb182f3e-9f18-4825-b190-3b26fdbe0ef0",
   "metadata": {},
   "outputs": [
    {
     "name": "stdout",
     "output_type": "stream",
     "text": [
      "1204\n"
     ]
    }
   ],
   "source": [
    "df_context['context']\n",
    "print(len(df_context['context']))"
   ]
  },
  {
   "cell_type": "code",
   "execution_count": 27,
   "id": "89a24cdb-9b0e-40df-8373-51ed78320b54",
   "metadata": {},
   "outputs": [
    {
     "name": "stdout",
     "output_type": "stream",
     "text": [
      "1204\n"
     ]
    },
    {
     "data": {
      "text/plain": [
       "'The Normans (Norman: Nourmands; French: Normands; Latin: Normanni) were the people who in the 10th and 11th centuries gave their name to Normandy, a region in France. They were descended from Norse (\"Norman\" comes from \"Norseman\") raiders and pirates from Denmark, Iceland and Norway who, under their leader Rollo, agreed to swear fealty to King Charles III of West Francia. Through generations of assimilation and mixing with the native Frankish and Roman-Gaulish populations, their descendants would gradually merge with the Carolingian-based cultures of West Francia. The distinct cultural and ethnic identity of the Normans emerged initially in the first half of the 10th century, and it continued to evolve over the succeeding centuries.'"
      ]
     },
     "execution_count": 27,
     "metadata": {},
     "output_type": "execute_result"
    }
   ],
   "source": [
    "print(len(df_context['context'].tolist()))\n",
    "df_context['context'].tolist()[0]"
   ]
  },
  {
   "cell_type": "code",
   "execution_count": null,
   "id": "40144e64-0ef2-404c-82ac-a6576789d30f",
   "metadata": {},
   "outputs": [],
   "source": []
  }
 ],
 "metadata": {
  "kernelspec": {
   "display_name": "Python 3",
   "language": "python",
   "name": "python3"
  },
  "language_info": {
   "codemirror_mode": {
    "name": "ipython",
    "version": 3
   },
   "file_extension": ".py",
   "mimetype": "text/x-python",
   "name": "python",
   "nbconvert_exporter": "python",
   "pygments_lexer": "ipython3",
   "version": "3.10.7"
  }
 },
 "nbformat": 4,
 "nbformat_minor": 5
}
